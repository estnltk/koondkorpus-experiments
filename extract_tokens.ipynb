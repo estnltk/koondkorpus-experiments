{
 "cells": [
  {
   "cell_type": "markdown",
   "metadata": {},
   "source": [
    "# Create a list of all the tokens in the corpora\n",
    "## From koondkorpus zip file using EstNLTK 1.4\n",
    "\n",
    "Download the following files to the folder `corpora`.\n",
    "  * http://ats.cs.ut.ee/keeletehnoloogia/estnltk/koond.zip\n",
    "  * http://www.cl.ut.ee/korpused/segakorpus/slohtuleht/failid/xml/SLOleht.tar.gz\n",
    "\n",
    "Run\n",
    "```bash\n",
    "tar -xzf corpora/SLOleht.tar.gz\n",
    "tar -xzf corpora/koond.zip\n",
    "mv corpora/SLOleht corpora/SLOleht_xml\n",
    "mkdir corpora/SLOleht\n",
    "python estnltk/estnltk/examples/convert_koondkorpus.py corpora/SLOleht_xml/ corpora/SLOleht/ -e utf_8\n",
    "python koondkorpus-experiments/extract_tokens.py corpora/koond corpora/SLOleht --out corpora\n",
    "```\n",
    "Find the output files from the folder `corpora`.\n",
    "\n",
    "\n",
    "| corpora     | files  | size     |\n",
    "|-------------|--------|----------|\n",
    "| koond       | 527730 |   1.8 GB |\n",
    "| SLOleht_xml |   3314 | 429.8 MB |\n",
    "| SLOleht     |        |          |\n",
    "\n",
    "\n",
    "\n",
    "\n",
    "### Additional information\n",
    "https://estnltk.github.io/estnltk/1.4.1/tutorials/tei.html\n",
    "\n",
    "## From koondkorpus PostgreSQL collection using EstNLTK 1.6"
   ]
  },
  {
   "cell_type": "code",
   "execution_count": 1,
   "metadata": {},
   "outputs": [
    {
     "name": "stdout",
     "output_type": "stream",
     "text": [
      "INFO:db.py:1163: connecting to host: '172.17.64.125', port: '5432', dbname: 'estonian-text-corpora', user: 'pault'\n",
      "INFO:db.py:1175: role: 'estonian_text_corpora_create'\n"
     ]
    }
   ],
   "source": [
    "from estnltk.storage import PostgresStorage\n",
    "\n",
    "storage = PostgresStorage(pgpass_file='~/.pgpass',\n",
    "                          dbname='estonian-text-corpora',\n",
    "                          schema='estonian_text_corpora',\n",
    "                          role='estonian_text_corpora_create')\n",
    "\n",
    "collection = storage.get_collection('test_korpus_2')"
   ]
  },
  {
   "cell_type": "code",
   "execution_count": 2,
   "metadata": {},
   "outputs": [
    {
     "data": {
      "application/vnd.jupyter.widget-view+json": {
       "model_id": "5956a8579e0a44bd8c47fd83d6c41644",
       "version_major": 2,
       "version_minor": 0
      },
      "text/plain": [
       "HBox(children=(IntProgress(value=0), HTML(value='')))"
      ]
     },
     "metadata": {},
     "output_type": "display_data"
    },
    {
     "name": "stdout",
     "output_type": "stream",
     "text": [
      "\n"
     ]
    }
   ],
   "source": [
    "counter = collection.count_values(layer='words', attr='text', progressbar='notebook')"
   ]
  },
  {
   "cell_type": "code",
   "execution_count": 3,
   "metadata": {},
   "outputs": [
    {
     "data": {
      "text/plain": [
       "[('.', 2613),\n",
       " (',', 2580),\n",
       " ('on', 852),\n",
       " ('ja', 837),\n",
       " ('et', 380),\n",
       " ('\"', 358),\n",
       " ('ka', 284),\n",
       " ('ei', 261),\n",
       " ('kui', 222),\n",
       " ('(', 201)]"
      ]
     },
     "execution_count": 3,
     "metadata": {},
     "output_type": "execute_result"
    }
   ],
   "source": [
    "counter.most_common(10)"
   ]
  },
  {
   "cell_type": "code",
   "execution_count": 4,
   "metadata": {},
   "outputs": [
    {
     "data": {
      "text/plain": [
       "'! \" & ( ) *AS-is *Keskhaiglas *Mustamäe *Tallinna , - --- -auto -banaanid -filme -kujulised -laevad -lukkude -meditsiini -rühmad -silm -trellide -vormide -võimatute -võrede -ö . ... / //www.rreede.ee/firmast.html 0 0,2 0,3 00 000 01 02 03 03495 04 05 056 06 06-ga 08 09 1 1-2 1. 10 10% 10%-lise 10-aastaste 10-st 100 1000 100000 100protsendiliselt 101 1034 105-kroonise 107 10lp 10–20 11 11. 11.10 110 112 113 114 115 12 12% 12-aastaste 12-kohaline 12-puudane 12. 12.05 120 1200 124 13 13% 13. 131 1320 1337 13aastane 14 14-aastaste 14-aastastele 14.02 140 1436 149 15 15%-lise 15- 15.'"
      ]
     },
     "execution_count": 4,
     "metadata": {},
     "output_type": "execute_result"
    }
   ],
   "source": [
    "' '.join(sorted(counter)[:100])"
   ]
  },
  {
   "cell_type": "code",
   "execution_count": 5,
   "metadata": {},
   "outputs": [],
   "source": [
    "storage.close()"
   ]
  }
 ],
 "metadata": {
  "anaconda-cloud": {},
  "kernelspec": {
   "display_name": "Python 3",
   "language": "python",
   "name": "python3"
  },
  "language_info": {
   "codemirror_mode": {
    "name": "ipython",
    "version": 3
   },
   "file_extension": ".py",
   "mimetype": "text/x-python",
   "name": "python",
   "nbconvert_exporter": "python",
   "pygments_lexer": "ipython3",
   "version": "3.5.6"
  }
 },
 "nbformat": 4,
 "nbformat_minor": 1
}
