{
 "cells": [
  {
   "cell_type": "markdown",
   "metadata": {},
   "source": [
    "# Create the list of all the tokens in the corpora\n",
    "\n",
    "Download the following files to the folder `corpora`.\n",
    "  * http://ats.cs.ut.ee/keeletehnoloogia/estnltk/koond.zip\n",
    "  * http://www.cl.ut.ee/korpused/segakorpus/slohtuleht/failid/xml/SLOleht.tar.gz\n",
    "\n",
    "Run\n",
    "```bash\n",
    "tar -xzf corpora/SLOleht.tar.gz\n",
    "tar -xzf corpora/koond.zip\n",
    "mv corpora/SLOleht corpora/SLOleht_xml\n",
    "mkdir corpora/SLOleht\n",
    "python estnltk/estnltk/examples/convert_koondkorpus.py corpora/SLOleht_xml/ corpora/SLOleht/ -e utf_8\n",
    "python koondkorpus-experiments/extract_tokens.py corpora/koond corpora/SLOleht --out corpora\n",
    "```\n",
    "Find the output files from the folder `corpora`.\n",
    "\n",
    "|             | files  | size     |\n",
    "|-------------|--------|----------|\n",
    "| koond       | 527730 |   1.8 GB |\n",
    "| SLOleht_xml |   3314 | 429.8 MB |\n",
    "| SLOleht     |        |          |\n",
    "\n",
    "## Additional information\n",
    "https://estnltk.github.io/estnltk/1.4.1/tutorials/tei.html"
   ]
  }
 ],
 "metadata": {
  "anaconda-cloud": {},
  "kernelspec": {
   "display_name": "Python [conda env:py34]",
   "language": "python",
   "name": "conda-env-py34-py"
  },
  "language_info": {
   "codemirror_mode": {
    "name": "ipython",
    "version": 3
   },
   "file_extension": ".py",
   "mimetype": "text/x-python",
   "name": "python",
   "nbconvert_exporter": "python",
   "pygments_lexer": "ipython3",
   "version": "3.4.5"
  }
 },
 "nbformat": 4,
 "nbformat_minor": 1
}
