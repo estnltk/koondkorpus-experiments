{
 "cells": [
  {
   "cell_type": "code",
   "execution_count": 1,
   "metadata": {
    "collapsed": true
   },
   "outputs": [],
   "source": [
    "import csv\n",
    "from estnltk import Text"
   ]
  },
  {
   "cell_type": "code",
   "execution_count": 2,
   "metadata": {
    "collapsed": false
   },
   "outputs": [],
   "source": [
    "with open(\"morph/results/number_analysis_rules_with_examples.csv\", \"r\") as fin:\n",
    "    reader = csv.reader(fin)\n",
    "    lines = []\n",
    "    for line in reader:\n",
    "        lines.append(line)"
   ]
  },
  {
   "cell_type": "code",
   "execution_count": 3,
   "metadata": {
    "collapsed": false
   },
   "outputs": [],
   "source": [
    "header = lines.pop(0)"
   ]
  },
  {
   "cell_type": "code",
   "execution_count": 4,
   "metadata": {
    "collapsed": true
   },
   "outputs": [],
   "source": [
    "# Koondkorpuses esinevad juhud\n",
    "koond_lines = []\n",
    "for line in lines:\n",
    "    if line[5] != '':\n",
    "        koond_lines.append(line)"
   ]
  },
  {
   "cell_type": "code",
   "execution_count": 5,
   "metadata": {
    "collapsed": false
   },
   "outputs": [],
   "source": [
    "correct_lines = []\n",
    "correct_idx = []\n",
    "correct_for_sven = []\n",
    "correct_for_sven_idx = []\n",
    "\n",
    "# Liigitame õigeteks need, mida vabamorf ilusti oletamata analüüsida oskab\n",
    "for idx, line in enumerate(koond_lines):\n",
    "    \n",
    "    t = Text(line[5], disambiguate = False, guess = False, propername = False)\n",
    "\n",
    "    if len(t.analysis) > 0:\n",
    "        for a in t.analysis:\n",
    "\n",
    "            for i in a:\n",
    "\n",
    "                if i['partofspeech'] == 'N' and line[2] == 'N' and i['form'] == line[3]:\n",
    "                    correct_lines.append(line)\n",
    "                    correct_idx.append(idx)\n",
    "                elif i['partofspeech'] == 'O' and line[2] == 'O' and i['form'] == line[3]:\n",
    "                    correct_lines.append(line)\n",
    "                    correct_idx.append(idx)\n",
    "                    \n",
    "                # Sveni soovil loeme õigeks ka n-ö unustatud punktiga järgarvude analüüsid    \n",
    "                elif (i['partofspeech'] == 'O' or i['partofspeech'] == 'N') and i['form'] == line[3]:\n",
    "                    if '\\.' not in line[0]:\n",
    "                        correct_for_sven.append(line)\n",
    "                        correct_for_sven_idx.append(idx)\n",
    "                    "
   ]
  },
  {
   "cell_type": "code",
   "execution_count": 6,
   "metadata": {
    "collapsed": true
   },
   "outputs": [],
   "source": [
    "other_lines = []\n",
    "for idx, i in enumerate(koond_lines):\n",
    "    if idx not in correct_idx and idx not in correct_for_sven_idx:\n",
    "        other_lines.append(i)"
   ]
  },
  {
   "cell_type": "code",
   "execution_count": 7,
   "metadata": {
    "collapsed": true
   },
   "outputs": [],
   "source": [
    "# Loeme sobivaks ka juhud, kus inimene on kirjutanud välja korrektsest lõpust pikema tüki\n",
    "almost_correct_lines = []\n",
    "zero_endings = []\n",
    "for idx, line in enumerate(other_lines):\n",
    "    if line[1].endswith(line[4]):\n",
    "        almost_correct_lines.append(line)\n",
    "        \n",
    "    # Aktsepteerime ka 0-lõpud (3-me jne)    \n",
    "    elif line[4] == '0':\n",
    "        zero_endings.append(line)"
   ]
  },
  {
   "cell_type": "code",
   "execution_count": 8,
   "metadata": {
    "collapsed": true
   },
   "outputs": [],
   "source": [
    "solved_lines = []\n",
    "for line in correct_lines:\n",
    "    line.append(\"ok\")\n",
    "    solved_lines.append(line)\n",
    "for line in correct_for_sven:\n",
    "    line.append(\"ok_for_sven\")\n",
    "    solved_lines.append(line)\n",
    "for line in almost_correct_lines:\n",
    "    line.append(\"good_enough\")\n",
    "    solved_lines.append(line)\n",
    "for line in zero_endings:\n",
    "    line.append(\"zero_ending\")\n",
    "    solved_lines.append(line)    "
   ]
  },
  {
   "cell_type": "code",
   "execution_count": 9,
   "metadata": {
    "collapsed": true
   },
   "outputs": [],
   "source": [
    "# Leiame koondkorpuse katmata näited\n",
    "covered_examples = []\n",
    "for line in solved_lines:\n",
    "    covered_examples.append(line[5])\n",
    "    \n",
    "all_examples = []\n",
    "for line in koond_lines:\n",
    "    all_examples.append(line[5])    \n",
    "    \n",
    "not_covered_examples = set(all_examples) - set(covered_examples)    "
   ]
  },
  {
   "cell_type": "code",
   "execution_count": 10,
   "metadata": {
    "collapsed": false
   },
   "outputs": [
    {
     "data": {
      "text/plain": [
       "{'0-se',\n",
       " '215-se',\n",
       " '4i',\n",
       " '74e',\n",
       " '74se',\n",
       " '7500-e',\n",
       " '76se',\n",
       " '7i',\n",
       " '8i',\n",
       " '9000i',\n",
       " '9000se',\n",
       " '911-i',\n",
       " '91a',\n",
       " '92a',\n",
       " '93se',\n",
       " '9550se',\n",
       " '95se',\n",
       " '9600-i',\n",
       " '97-se',\n",
       " '9710i',\n",
       " '9800se',\n",
       " '98e',\n",
       " '98se',\n",
       " '99se',\n",
       " '9e',\n",
       " '9i'}"
      ]
     },
     "execution_count": 10,
     "metadata": {},
     "output_type": "execute_result"
    }
   ],
   "source": [
    "# -se lõpud on ilmselt omadussõnalõpud (\"nulline\"->\"nullise\" jne).\n",
    "# i-d ja a-d ja e-d võivad ka mis iganes olla, mitte tingimata käändelõpud\n",
    "not_covered_examples"
   ]
  },
  {
   "cell_type": "code",
   "execution_count": 11,
   "metadata": {
    "collapsed": true
   },
   "outputs": [],
   "source": [
    "# Koondkorpuses mitte olevad näited:\n",
    "not_koond_lines = []\n",
    "for line in lines:\n",
    "    if line[5] == '':\n",
    "        not_koond_lines.append(line)"
   ]
  },
  {
   "cell_type": "code",
   "execution_count": 12,
   "metadata": {
    "collapsed": false
   },
   "outputs": [],
   "source": [
    "# Aktsepteerime korrektsest variandist pikemad\n",
    "ok_no_example = []\n",
    "not_ok = []\n",
    "for line in not_koond_lines:\n",
    "    if (len(line[1]) > len(line[4]) and line[4] != 0) or line[1] == line[4]:\n",
    "        ok_no_example.append(line)  \n",
    "    else:\n",
    "        not_ok.append(line)"
   ]
  },
  {
   "cell_type": "code",
   "execution_count": 13,
   "metadata": {
    "collapsed": true
   },
   "outputs": [],
   "source": [
    "for line in ok_no_example:\n",
    "    line.append(\"ok_no_example\")\n",
    "    solved_lines.append(line)\n",
    "    "
   ]
  },
  {
   "cell_type": "code",
   "execution_count": 14,
   "metadata": {
    "collapsed": true
   },
   "outputs": [],
   "source": [
    "for line in lines:\n",
    "    if line not in solved_lines:\n",
    "        line.append(\"not_ok\")\n",
    "        solved_lines.append(line)"
   ]
  },
  {
   "cell_type": "code",
   "execution_count": 15,
   "metadata": {
    "collapsed": false
   },
   "outputs": [
    {
     "data": {
      "text/plain": [
       "9744"
      ]
     },
     "execution_count": 15,
     "metadata": {},
     "output_type": "execute_result"
    }
   ],
   "source": [
    "len(solved_lines)"
   ]
  },
  {
   "cell_type": "code",
   "execution_count": 16,
   "metadata": {
    "collapsed": false
   },
   "outputs": [
    {
     "data": {
      "text/plain": [
       "9744"
      ]
     },
     "execution_count": 16,
     "metadata": {},
     "output_type": "execute_result"
    }
   ],
   "source": [
    "len(lines)"
   ]
  },
  {
   "cell_type": "code",
   "execution_count": 17,
   "metadata": {
    "collapsed": false
   },
   "outputs": [],
   "source": [
    "with open(\"morph/results/number_analysis_rules_verified.csv\", \"w\") as fout:\n",
    "    writer = csv.writer(fout, quoting = csv.QUOTE_ALL)\n",
    "    header.append('decision')\n",
    "    writer.writerow(header)\n",
    "    for row in solved_lines:\n",
    "        writer.writerow(row)"
   ]
  },
  {
   "cell_type": "code",
   "execution_count": null,
   "metadata": {
    "collapsed": true
   },
   "outputs": [],
   "source": []
  }
 ],
 "metadata": {
  "anaconda-cloud": {},
  "kernelspec": {
   "display_name": "Python [conda env:estnltk141]",
   "language": "python",
   "name": "conda-env-estnltk141-py"
  },
  "language_info": {
   "codemirror_mode": {
    "name": "ipython",
    "version": 3
   },
   "file_extension": ".py",
   "mimetype": "text/x-python",
   "name": "python",
   "nbconvert_exporter": "python",
   "pygments_lexer": "ipython3",
   "version": "3.5.0"
  }
 },
 "nbformat": 4,
 "nbformat_minor": 1
}
