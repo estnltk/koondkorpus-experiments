{
 "cells": [
  {
   "cell_type": "code",
   "execution_count": 1,
   "metadata": {},
   "outputs": [
    {
     "name": "stdout",
     "output_type": "stream",
     "text": [
      "INFO:db.py:1216: connecting to host: 'postgres.keeleressursid.ee', port: '5432', dbname: 'estonian-text-corpora', user: 'pault'\n",
      "INFO:db.py:1228: role: 'estonian_text_corpora_create'\n"
     ]
    }
   ],
   "source": [
    "from estnltk.storage import PostgresStorage\n",
    "\n",
    "storage = PostgresStorage(pgpass_file='~/.pgpass',\n",
    "                          dbname='estonian-text-corpora',\n",
    "                          schema='estonian_text_corpora',\n",
    "                          role='estonian_text_corpora_create')\n",
    "\n",
    "collection = storage.get_collection('test_korpus_2') # koondkorpus_base"
   ]
  },
  {
   "cell_type": "code",
   "execution_count": 2,
   "metadata": {},
   "outputs": [],
   "source": [
    "from estnltk import Text\n",
    "from koondkorpus_experiments.data_processing.tokenization.plain_word_tagger import PlainWordTagger\n",
    "\n",
    "tagger = PlainWordTagger(output_layer='v16_1_words')"
   ]
  },
  {
   "cell_type": "code",
   "execution_count": 3,
   "metadata": {},
   "outputs": [
    {
     "name": "stdout",
     "output_type": "stream",
     "text": [
      "INFO:db.py:815: collection: 'test_korpus_2'\n",
      "INFO:db.py:820: overwriting output layer: 'v16_1_words'\n",
      "INFO:db.py:1010: layer deleted: 'v16_1_words'\n"
     ]
    },
    {
     "data": {
      "application/vnd.jupyter.widget-view+json": {
       "model_id": "fc8e2a00bb7d43ffa88aad4ab09ad318",
       "version_major": 2,
       "version_minor": 0
      },
      "text/plain": [
       "HBox(children=(IntProgress(value=0), HTML(value='')))"
      ]
     },
     "metadata": {},
     "output_type": "display_data"
    },
    {
     "name": "stdout",
     "output_type": "stream",
     "text": [
      "\n",
      "INFO:db.py:900: layer created: 'v16_1_words'\n"
     ]
    }
   ],
   "source": [
    "collection.create_layer_buffered(tagger=tagger, progressbar='notebook', overwrite=True)"
   ]
  },
  {
   "cell_type": "markdown",
   "metadata": {},
   "source": [
    "If the `create_layer_buffered` method terminates before the layer table is complete, restart the connection and use the next method to complete the work."
   ]
  },
  {
   "cell_type": "code",
   "execution_count": 4,
   "metadata": {},
   "outputs": [
    {
     "name": "stdout",
     "output_type": "stream",
     "text": [
      "INFO:db.py:815: collection: 'test_korpus_2'\n",
      "INFO:db.py:823: appending existing layer: 'v16_1_words'\n"
     ]
    },
    {
     "data": {
      "application/vnd.jupyter.widget-view+json": {
       "model_id": "9035bf64be0244b0a6b8bec0039956be",
       "version_major": 2,
       "version_minor": 0
      },
      "text/plain": [
       "HBox(children=(IntProgress(value=0), HTML(value='')))"
      ]
     },
     "metadata": {},
     "output_type": "display_data"
    },
    {
     "name": "stdout",
     "output_type": "stream",
     "text": [
      "\n",
      "INFO:db.py:900: layer created: 'v16_1_words'\n"
     ]
    }
   ],
   "source": [
    "collection.continue_creating_layer(tagger=tagger, progressbar='notebook')"
   ]
  },
  {
   "cell_type": "code",
   "execution_count": 5,
   "metadata": {},
   "outputs": [],
   "source": [
    "text_iterator = collection.select(layers=['v16_1_words'])"
   ]
  },
  {
   "cell_type": "code",
   "execution_count": 6,
   "metadata": {
    "scrolled": false
   },
   "outputs": [
    {
     "data": {
      "text/html": [
       "<h4>Layer</h4>\n",
       "<table border=\"1\" class=\"dataframe\">\n",
       "  <thead>\n",
       "    <tr style=\"text-align: right;\">\n",
       "      <th>layer name</th>\n",
       "      <th>attributes</th>\n",
       "      <th>parent</th>\n",
       "      <th>enveloping</th>\n",
       "      <th>ambiguous</th>\n",
       "      <th>span count</th>\n",
       "    </tr>\n",
       "  </thead>\n",
       "  <tbody>\n",
       "    <tr>\n",
       "      <td>v16_1_words</td>\n",
       "      <td>normalized_form</td>\n",
       "      <td>None</td>\n",
       "      <td>None</td>\n",
       "      <td>False</td>\n",
       "      <td>45</td>\n",
       "    </tr>\n",
       "  </tbody>\n",
       "</table>\n",
       "<table border=\"1\" class=\"dataframe\">\n",
       "  <thead>\n",
       "    <tr style=\"text-align: right;\">\n",
       "      <th>text</th>\n",
       "      <th>normalized_form</th>\n",
       "    </tr>\n",
       "  </thead>\n",
       "  <tbody>\n",
       "    <tr>\n",
       "      <td>Kõrgõzstan</td>\n",
       "      <td>None</td>\n",
       "    </tr>\n",
       "    <tr>\n",
       "      <td>kavatseb</td>\n",
       "      <td>None</td>\n",
       "    </tr>\n",
       "    <tr>\n",
       "      <td>Eestilt</td>\n",
       "      <td>None</td>\n",
       "    </tr>\n",
       "    <tr>\n",
       "      <td>sisse</td>\n",
       "      <td>None</td>\n",
       "    </tr>\n",
       "    <tr>\n",
       "      <td>nõuda</td>\n",
       "      <td>None</td>\n",
       "    </tr>\n",
       "    <tr>\n",
       "      <td>573 000</td>\n",
       "      <td>573000</td>\n",
       "    </tr>\n",
       "    <tr>\n",
       "      <td>dollarit</td>\n",
       "      <td>None</td>\n",
       "    </tr>\n",
       "    <tr>\n",
       "      <td>ehk</td>\n",
       "      <td>None</td>\n",
       "    </tr>\n",
       "    <tr>\n",
       "      <td>7,4</td>\n",
       "      <td>7,4</td>\n",
       "    </tr>\n",
       "    <tr>\n",
       "      <td>miljonit</td>\n",
       "      <td>None</td>\n",
       "    </tr>\n",
       "    <tr>\n",
       "      <td>krooni</td>\n",
       "      <td>None</td>\n",
       "    </tr>\n",
       "    <tr>\n",
       "      <td>,</td>\n",
       "      <td>None</td>\n",
       "    </tr>\n",
       "    <tr>\n",
       "      <td>mis</td>\n",
       "      <td>None</td>\n",
       "    </tr>\n",
       "    <tr>\n",
       "      <td>Eesti</td>\n",
       "      <td>None</td>\n",
       "    </tr>\n",
       "    <tr>\n",
       "      <td>on</td>\n",
       "      <td>None</td>\n",
       "    </tr>\n",
       "    <tr>\n",
       "      <td>väidetavalt</td>\n",
       "      <td>None</td>\n",
       "    </tr>\n",
       "    <tr>\n",
       "      <td>jäänud</td>\n",
       "      <td>None</td>\n",
       "    </tr>\n",
       "    <tr>\n",
       "      <td>võlgu</td>\n",
       "      <td>None</td>\n",
       "    </tr>\n",
       "    <tr>\n",
       "      <td>Nõukogude</td>\n",
       "      <td>None</td>\n",
       "    </tr>\n",
       "    <tr>\n",
       "      <td>ajast</td>\n",
       "      <td>None</td>\n",
       "    </tr>\n",
       "    <tr>\n",
       "      <td>.</td>\n",
       "      <td>None</td>\n",
       "    </tr>\n",
       "    <tr>\n",
       "      <td>Ajalehe</td>\n",
       "      <td>None</td>\n",
       "    </tr>\n",
       "    <tr>\n",
       "      <td>Rossiis-kaja</td>\n",
       "      <td>None</td>\n",
       "    </tr>\n",
       "    <tr>\n",
       "      <td>Gazeta</td>\n",
       "      <td>None</td>\n",
       "    </tr>\n",
       "    <tr>\n",
       "      <td>teatel</td>\n",
       "      <td>None</td>\n",
       "    </tr>\n",
       "    <tr>\n",
       "      <td>on</td>\n",
       "      <td>None</td>\n",
       "    </tr>\n",
       "    <tr>\n",
       "      <td>Kõrgõz-stan</td>\n",
       "      <td>Kõrgõzstan</td>\n",
       "    </tr>\n",
       "    <tr>\n",
       "      <td>hakanud</td>\n",
       "      <td>None</td>\n",
       "    </tr>\n",
       "    <tr>\n",
       "      <td>postsovetlikus</td>\n",
       "      <td>None</td>\n",
       "    </tr>\n",
       "    <tr>\n",
       "      <td>ruumis</td>\n",
       "      <td>None</td>\n",
       "    </tr>\n",
       "    <tr>\n",
       "      <td>võlgu</td>\n",
       "      <td>None</td>\n",
       "    </tr>\n",
       "    <tr>\n",
       "      <td>kokku</td>\n",
       "      <td>None</td>\n",
       "    </tr>\n",
       "    <tr>\n",
       "      <td>korjama</td>\n",
       "      <td>None</td>\n",
       "    </tr>\n",
       "    <tr>\n",
       "      <td>ning</td>\n",
       "      <td>None</td>\n",
       "    </tr>\n",
       "    <tr>\n",
       "      <td>kavatseb</td>\n",
       "      <td>None</td>\n",
       "    </tr>\n",
       "    <tr>\n",
       "      <td>nõuda</td>\n",
       "      <td>None</td>\n",
       "    </tr>\n",
       "    <tr>\n",
       "      <td>kuuelt</td>\n",
       "      <td>None</td>\n",
       "    </tr>\n",
       "    <tr>\n",
       "      <td>endiselt</td>\n",
       "      <td>None</td>\n",
       "    </tr>\n",
       "    <tr>\n",
       "      <td>liiduvabariigilt</td>\n",
       "      <td>None</td>\n",
       "    </tr>\n",
       "    <tr>\n",
       "      <td>kokku</td>\n",
       "      <td>None</td>\n",
       "    </tr>\n",
       "    <tr>\n",
       "      <td>31</td>\n",
       "      <td>None</td>\n",
       "    </tr>\n",
       "    <tr>\n",
       "      <td>miljoni</td>\n",
       "      <td>None</td>\n",
       "    </tr>\n",
       "    <tr>\n",
       "      <td>dollari</td>\n",
       "      <td>None</td>\n",
       "    </tr>\n",
       "    <tr>\n",
       "      <td>tagastamist</td>\n",
       "      <td>None</td>\n",
       "    </tr>\n",
       "    <tr>\n",
       "      <td>.</td>\n",
       "      <td>None</td>\n",
       "    </tr>\n",
       "  </tbody>\n",
       "</table>"
      ],
      "text/plain": [
       "Layer(name=v16_1_words, spans=SL[Span(start=0, end=10, text='Kõrgõzstan'),\n",
       "Span(start=11, end=19, text='kavatseb'),\n",
       "Span(start=20, end=27, text='Eestilt'),\n",
       "Span(start=28, end=33, text='sisse'),\n",
       "Span(start=34, end=39, text='nõuda'),\n",
       "Span(start=40, end=47, text='573 000'),\n",
       "Span(start=48, end=56, text='dollarit'),\n",
       "Span(start=57, end=60, text='ehk'),\n",
       "Span(start=61, end=64, text='7,4'),\n",
       "Span(start=65, end=73, text='miljonit'),\n",
       "Span(start=74, end=80, text='krooni'),\n",
       "Span(start=81, end=82, text=','),\n",
       "Span(start=83, end=86, text='mis'),\n",
       "Span(start=87, end=92, text='Eesti'),\n",
       "Span(start=93, end=95, text='on'),\n",
       "Span(start=96, end=107, text='väidetavalt'),\n",
       "Span(start=108, end=114, text='jäänud'),\n",
       "Span(start=115, end=120, text='võlgu'),\n",
       "Span(start=121, end=130, text='Nõukogude'),\n",
       "Span(start=131, end=136, text='ajast'),\n",
       "Span(start=137, end=138, text='.'),\n",
       "Span(start=140, end=147, text='Ajalehe'),\n",
       "Span(start=148, end=160, text='Rossiis-kaja'),\n",
       "Span(start=161, end=167, text='Gazeta'),\n",
       "Span(start=168, end=174, text='teatel'),\n",
       "Span(start=175, end=177, text='on'),\n",
       "Span(start=178, end=189, text='Kõrgõz-stan'),\n",
       "Span(start=190, end=197, text='hakanud'),\n",
       "Span(start=198, end=212, text='postsovetlikus'),\n",
       "Span(start=213, end=219, text='ruumis'),\n",
       "Span(start=220, end=225, text='võlgu'),\n",
       "Span(start=226, end=231, text='kokku'),\n",
       "Span(start=232, end=239, text='korjama'),\n",
       "Span(start=240, end=244, text='ning'),\n",
       "Span(start=245, end=253, text='kavatseb'),\n",
       "Span(start=254, end=259, text='nõuda'),\n",
       "Span(start=260, end=266, text='kuuelt'),\n",
       "Span(start=267, end=275, text='endiselt'),\n",
       "Span(start=276, end=292, text='liiduvabariigilt'),\n",
       "Span(start=293, end=298, text='kokku'),\n",
       "Span(start=299, end=301, text='31'),\n",
       "Span(start=302, end=309, text='miljoni'),\n",
       "Span(start=310, end=317, text='dollari'),\n",
       "Span(start=318, end=329, text='tagastamist'),\n",
       "Span(start=330, end=331, text='.')])"
      ]
     },
     "execution_count": 6,
     "metadata": {},
     "output_type": "execute_result"
    }
   ],
   "source": [
    "next(text_iterator)[1].v16_1_words"
   ]
  },
  {
   "cell_type": "code",
   "execution_count": 7,
   "metadata": {},
   "outputs": [],
   "source": [
    "storage.close()"
   ]
  }
 ],
 "metadata": {
  "kernelspec": {
   "display_name": "Python 3",
   "language": "python",
   "name": "python3"
  },
  "language_info": {
   "codemirror_mode": {
    "name": "ipython",
    "version": 3
   },
   "file_extension": ".py",
   "mimetype": "text/x-python",
   "name": "python",
   "nbconvert_exporter": "python",
   "pygments_lexer": "ipython3",
   "version": "3.5.6"
  },
  "widgets": {
   "application/vnd.jupyter.widget-state+json": {
    "state": {
     "1b1da6cd52384a17866ea4aed34ef33c": {
      "model_module": "@jupyter-widgets/base",
      "model_module_version": "1.1.0",
      "model_name": "LayoutModel",
      "state": {}
     },
     "2aa02ed40edc4cdb91d41b196aae7b49": {
      "model_module": "@jupyter-widgets/base",
      "model_module_version": "1.1.0",
      "model_name": "LayoutModel",
      "state": {}
     },
     "4efaabe7524041c98d40d77273e478fe": {
      "model_module": "@jupyter-widgets/base",
      "model_module_version": "1.1.0",
      "model_name": "LayoutModel",
      "state": {}
     },
     "55546a2bf6c94bbb8ab98accd2d348b8": {
      "model_module": "@jupyter-widgets/controls",
      "model_module_version": "1.4.0",
      "model_name": "DescriptionStyleModel",
      "state": {
       "description_width": ""
      }
     },
     "558bb342988a42169461d0238975052a": {
      "model_module": "@jupyter-widgets/controls",
      "model_module_version": "1.4.0",
      "model_name": "DescriptionStyleModel",
      "state": {
       "description_width": ""
      }
     },
     "595d0b01f6d24b1c879dae7040c586d0": {
      "model_module": "@jupyter-widgets/controls",
      "model_module_version": "1.4.0",
      "model_name": "HTMLModel",
      "state": {
       "layout": "IPY_MODEL_96bfa8b709524409965a50680c2850c1",
       "style": "IPY_MODEL_55546a2bf6c94bbb8ab98accd2d348b8",
       "value": "100% 100/100 [00:12&lt;00:00,  8.22doc/s]"
      }
     },
     "6ff812f641fe4088abf8f8eeed24ca8d": {
      "model_module": "@jupyter-widgets/controls",
      "model_module_version": "1.4.0",
      "model_name": "HBoxModel",
      "state": {
       "children": [
        "IPY_MODEL_e24c9ab019864244836909891937f970",
        "IPY_MODEL_7ade411acfc54a69a61a9af239ff1729"
       ],
       "layout": "IPY_MODEL_1b1da6cd52384a17866ea4aed34ef33c"
      }
     },
     "706591826e724924a0cac07ac30c6332": {
      "model_module": "@jupyter-widgets/controls",
      "model_module_version": "1.4.0",
      "model_name": "HBoxModel",
      "state": {
       "children": [
        "IPY_MODEL_f850aec41a5a48c6a9e4a451a4aff0ba",
        "IPY_MODEL_595d0b01f6d24b1c879dae7040c586d0"
       ],
       "layout": "IPY_MODEL_a58b9d356fea40eabb9a7ea5735bc854"
      }
     },
     "7ade411acfc54a69a61a9af239ff1729": {
      "model_module": "@jupyter-widgets/controls",
      "model_module_version": "1.4.0",
      "model_name": "HTMLModel",
      "state": {
       "layout": "IPY_MODEL_9f6f880465f941518de731478a24fe76",
       "style": "IPY_MODEL_558bb342988a42169461d0238975052a",
       "value": "  0% 0/100 [00:00&lt;?, ?doc/s]"
      }
     },
     "96bfa8b709524409965a50680c2850c1": {
      "model_module": "@jupyter-widgets/base",
      "model_module_version": "1.1.0",
      "model_name": "LayoutModel",
      "state": {}
     },
     "9f6f880465f941518de731478a24fe76": {
      "model_module": "@jupyter-widgets/base",
      "model_module_version": "1.1.0",
      "model_name": "LayoutModel",
      "state": {}
     },
     "a58b9d356fea40eabb9a7ea5735bc854": {
      "model_module": "@jupyter-widgets/base",
      "model_module_version": "1.1.0",
      "model_name": "LayoutModel",
      "state": {}
     },
     "c0269899729c453888f34c355411fd32": {
      "model_module": "@jupyter-widgets/controls",
      "model_module_version": "1.4.0",
      "model_name": "ProgressStyleModel",
      "state": {
       "description_width": ""
      }
     },
     "de20b34137d44798b3e4731b7d35ce6e": {
      "model_module": "@jupyter-widgets/controls",
      "model_module_version": "1.4.0",
      "model_name": "ProgressStyleModel",
      "state": {
       "description_width": ""
      }
     },
     "e24c9ab019864244836909891937f970": {
      "model_module": "@jupyter-widgets/controls",
      "model_module_version": "1.4.0",
      "model_name": "IntProgressModel",
      "state": {
       "description": "collection_id: 662269",
       "layout": "IPY_MODEL_2aa02ed40edc4cdb91d41b196aae7b49",
       "style": "IPY_MODEL_de20b34137d44798b3e4731b7d35ce6e"
      }
     },
     "f850aec41a5a48c6a9e4a451a4aff0ba": {
      "model_module": "@jupyter-widgets/controls",
      "model_module_version": "1.4.0",
      "model_name": "IntProgressModel",
      "state": {
       "bar_style": "success",
       "description": "collection_id: 662350",
       "layout": "IPY_MODEL_4efaabe7524041c98d40d77273e478fe",
       "style": "IPY_MODEL_c0269899729c453888f34c355411fd32",
       "value": 100
      }
     }
    },
    "version_major": 2,
    "version_minor": 0
   }
  }
 },
 "nbformat": 4,
 "nbformat_minor": 2
}
