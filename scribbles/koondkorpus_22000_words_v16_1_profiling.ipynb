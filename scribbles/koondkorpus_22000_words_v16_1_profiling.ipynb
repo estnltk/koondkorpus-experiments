{
 "cells": [
  {
   "cell_type": "markdown",
   "metadata": {},
   "source": [
    "total time: 59 min 56 s"
   ]
  },
  {
   "cell_type": "code",
   "execution_count": 1,
   "metadata": {},
   "outputs": [],
   "source": [
    "import pstats\n",
    "\n",
    "p = pstats.Stats('koondkorpus_22000_words_v16_1.profile')"
   ]
  },
  {
   "cell_type": "code",
   "execution_count": 2,
   "metadata": {},
   "outputs": [
    {
     "data": {
      "text/plain": [
       "<pstats.Stats at 0x7fe378369b70>"
      ]
     },
     "execution_count": 2,
     "metadata": {},
     "output_type": "execute_result"
    }
   ],
   "source": [
    "p.strip_dirs()"
   ]
  },
  {
   "cell_type": "code",
   "execution_count": 3,
   "metadata": {
    "scrolled": false
   },
   "outputs": [
    {
     "name": "stdout",
     "output_type": "stream",
     "text": [
      "Fri Dec 14 18:32:47 2018    koondkorpus_22000_words_v16_1.profile\n",
      "\n",
      "         4725595171 function calls (4668407449 primitive calls) in 3606.121 seconds\n",
      "\n",
      "   Ordered by: cumulative time\n",
      "   List reduced from 9789 to 10 due to restriction <10>\n",
      "\n",
      "   ncalls  tottime  percall  cumtime  percall filename:lineno(function)\n",
      "   2268/1    0.032    0.000 3606.126 3606.126 {built-in method builtins.exec}\n",
      "        1  559.620  559.620 3606.126 3606.126 koondkorpus_22000_words_v16_1.py:5(<module>)\n",
      "   626806   31.240    0.000 1347.406    0.002 iterators.py:2(find_examples)\n",
      "    21998    0.100    0.000 1238.848    0.056 db.py:493(select)\n",
      "    21998    0.096    0.000 1238.408    0.056 _tqdm.py:907(__iter__)\n",
      "    21998    0.113    0.000 1238.095    0.056 db.py:472(_select)\n",
      "    21998  751.001    0.034 1223.095    0.056 db.py:336(select_raw)\n",
      "370182344  367.194    0.000  521.044    0.000 layer.py:523(__getitem__)\n",
      "   626805    0.910    0.000  403.917    0.001 db.py:196(wrap_buffered_insert)\n",
      "   626805   10.939    0.000  403.007    0.001 db.py:205(_buffered_insert)\n",
      "\n",
      "\n"
     ]
    },
    {
     "data": {
      "text/plain": [
       "<pstats.Stats at 0x7fe378369b70>"
      ]
     },
     "execution_count": 3,
     "metadata": {},
     "output_type": "execute_result"
    }
   ],
   "source": [
    "p.sort_stats('cumulative').print_stats(10)"
   ]
  },
  {
   "cell_type": "code",
   "execution_count": 4,
   "metadata": {
    "scrolled": false
   },
   "outputs": [
    {
     "name": "stdout",
     "output_type": "stream",
     "text": [
      "Fri Dec 14 18:32:47 2018    koondkorpus_22000_words_v16_1.profile\n",
      "\n",
      "         4725595171 function calls (4668407449 primitive calls) in 3606.121 seconds\n",
      "\n",
      "   Ordered by: internal time\n",
      "   List reduced from 9789 to 10 due to restriction <10>\n",
      "\n",
      "   ncalls  tottime  percall  cumtime  percall filename:lineno(function)\n",
      "    21998  751.001    0.034 1223.095    0.056 db.py:336(select_raw)\n",
      "        1  559.620  559.620 3606.126 3606.126 koondkorpus_22000_words_v16_1.py:5(<module>)\n",
      "370182344  367.194    0.000  521.044    0.000 layer.py:523(__getitem__)\n",
      "       86  280.546    3.262  295.862    3.440 {method 'execute' of 'psycopg2.extensions.cursor' objects}\n",
      "760673012  199.912    0.000  199.912    0.000 span.py:105(end)\n",
      "365912874/362916372  189.629    0.000  291.398    0.000 enveloping_span.py:71(start)\n",
      "364510047/361513545  176.912    0.000  306.089    0.000 enveloping_span.py:75(end)\n",
      "762225056  173.700    0.000  173.700    0.000 span.py:92(start)\n",
      "    65991  145.252    0.002  242.175    0.004 layer.py:299(<listcomp>)\n",
      "1244805186/1243506981  137.640    0.000  149.401    0.000 {built-in method builtins.isinstance}\n",
      "\n",
      "\n"
     ]
    },
    {
     "data": {
      "text/plain": [
       "<pstats.Stats at 0x7fe378369b70>"
      ]
     },
     "execution_count": 4,
     "metadata": {},
     "output_type": "execute_result"
    }
   ],
   "source": [
    "p.sort_stats('tottime').print_stats(10)"
   ]
  }
 ],
 "metadata": {
  "kernelspec": {
   "display_name": "Python 3",
   "language": "python",
   "name": "python3"
  },
  "language_info": {
   "codemirror_mode": {
    "name": "ipython",
    "version": 3
   },
   "file_extension": ".py",
   "mimetype": "text/x-python",
   "name": "python",
   "nbconvert_exporter": "python",
   "pygments_lexer": "ipython3",
   "version": "3.5.6"
  }
 },
 "nbformat": 4,
 "nbformat_minor": 2
}
