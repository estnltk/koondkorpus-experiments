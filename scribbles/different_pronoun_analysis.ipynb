{
 "cells": [
  {
   "cell_type": "markdown",
   "metadata": {},
   "source": [
    "# Pronountagger different results using 1.4_1 koondkorpus"
   ]
  },
  {
   "cell_type": "code",
   "execution_count": 2,
   "metadata": {},
   "outputs": [],
   "source": [
    "from estnltk.taggers import PronounTypeTagger\n",
    "from estnltk import Text\n",
    "from collections import defaultdict"
   ]
  },
  {
   "cell_type": "code",
   "execution_count": 3,
   "metadata": {},
   "outputs": [],
   "source": [
    "def pronoun_tagger_analysis(text):\n",
    "    pronouns = defaultdict(list)\n",
    "    wordst = Text(text).tag_layer()\n",
    "    tagger.tag(wordst)\n",
    "    words2 = wordst['pronoun_type']\n",
    "    for token, form, lemma, postag, ptype in zip(words2.text, words2.form, words2.lemma, words2.partofspeech, words2.pronoun_type):   \n",
    "        for i in range(len(form)):\n",
    "            if ptype[i] is None:\n",
    "                pronouns[token].append([lemma[i], postag[i], form[i], None])\n",
    "            else:\n",
    "                if [lemma[i], postag[i], form[i], list(ptype[i])] in pronouns[token]:\n",
    "                    continue\n",
    "                else:\n",
    "                    pronouns[token].append([lemma[i], postag[i], form[i], list(ptype[i])])\n",
    "    return pronouns"
   ]
  },
  {
   "cell_type": "code",
   "execution_count": 4,
   "metadata": {},
   "outputs": [],
   "source": [
    "tagger = PronounTypeTagger()"
   ]
  },
  {
   "cell_type": "markdown",
   "metadata": {},
   "source": [
    "Kui ma kogu koondkorpuse sõnad sorteeritult läbi lasen 100-sõnaliste tekstidena, siis saab \"teile-meile\" analüüsiks: \n",
    "\n",
    "**('teile', [['sina', 'P', 'pl all', ('ps2',)]])**\n",
    "\n",
    "**('teile-meile', [['teile-mina', 'P', 'pl all', ('ps1',)]])**\n",
    "\n",
    "**('teilt', [['sina', 'P', 'pl abl', ('ps2',)]])**"
   ]
  },
  {
   "cell_type": "markdown",
   "metadata": {},
   "source": [
    "\"teile-meile\" analüüsitakse eraldi tokenitena:"
   ]
  },
  {
   "cell_type": "code",
   "execution_count": 10,
   "metadata": {},
   "outputs": [
    {
     "data": {
      "text/plain": [
       "defaultdict(list,\n",
       "            {'-': [['-', 'Z', '', None]],\n",
       "             'eile': [['eile', 'D', '', None]],\n",
       "             'meile': [['mina', 'P', 'pl all', ['ps1']]],\n",
       "             'teile': [['sina', 'P', 'pl all', ['ps2']]],\n",
       "             'öeldi': [['ütlema', 'V', 'ti', None]]})"
      ]
     },
     "execution_count": 10,
     "metadata": {},
     "output_type": "execute_result"
    }
   ],
   "source": [
    "text = 'eile öeldi teile-meile'\n",
    "pronoun_tagger_analysis(text)"
   ]
  },
  {
   "cell_type": "markdown",
   "metadata": {},
   "source": [
    "Siin saab \"teile-meile\" analüüsiks \"S\"; \"paljudele-paljudele\" analüüsitakse kui \"P\""
   ]
  },
  {
   "cell_type": "code",
   "execution_count": 8,
   "metadata": {},
   "outputs": [
    {
     "data": {
      "text/plain": [
       "defaultdict(list,\n",
       "            {'meeldib': [['meeldima', 'V', 'b', None]],\n",
       "             'nagu': [['nagu', 'D', '', None], ['nagu', 'J', '', None]],\n",
       "             'paljudele-paljudele': [['paljudele-palju',\n",
       "               'P',\n",
       "               'pl all',\n",
       "               ['indef']]],\n",
       "             'saia': [['sai', 'S', 'sg p', None]],\n",
       "             'seda': [['see', 'P', 'sg p', ['dem']]],\n",
       "             'süüa': [['sööma', 'V', 'da', None]],\n",
       "             'teile-meile': [['teile-meil', 'S', 'pl p', None]],\n",
       "             'teistele': [['teine', 'O', 'pl all', None],\n",
       "              ['teine', 'P', 'pl all', ['dem']]]})"
      ]
     },
     "execution_count": 8,
     "metadata": {},
     "output_type": "execute_result"
    }
   ],
   "source": [
    "text = 'teile-meile meeldib seda saia süüa nagu paljudele-paljudele teistele'\n",
    "pronoun_tagger_analysis(text)"
   ]
  },
  {
   "cell_type": "markdown",
   "metadata": {},
   "source": [
    "Siin saab \"teile-meile\" samuti \"S\", aga \"paljudele-paljudele\" tokenist saab lihtsalt \"paljudele\""
   ]
  },
  {
   "cell_type": "code",
   "execution_count": 6,
   "metadata": {},
   "outputs": [
    {
     "data": {
      "text/plain": [
       "defaultdict(list,\n",
       "            {'-': [['-', 'Z', '', None]],\n",
       "             'meeldib': [['meeldima', 'V', 'b', None]],\n",
       "             'nagu': [['nagu', 'D', '', None], ['nagu', 'J', '', None]],\n",
       "             'paljudele': [['palju', 'P', 'pl all', ['indef']]],\n",
       "             'saia': [['sai', 'S', 'sg p', None]],\n",
       "             'seda': [['see', 'P', 'sg p', ['dem']]],\n",
       "             'süüa': [['sööma', 'V', 'da', None]],\n",
       "             'teile-meile': [['teile-meil', 'S', 'pl p', None]]})"
      ]
     },
     "execution_count": 6,
     "metadata": {},
     "output_type": "execute_result"
    }
   ],
   "source": [
    "text = 'teile-meile meeldib seda saia süüa nagu paljudele-paljudele'\n",
    "pronoun_tagger_analysis(text)"
   ]
  },
  {
   "cell_type": "markdown",
   "metadata": {},
   "source": [
    "Üksikult on \"teile-meile\" kolm eri tokenit."
   ]
  },
  {
   "cell_type": "code",
   "execution_count": 7,
   "metadata": {},
   "outputs": [
    {
     "data": {
      "text/plain": [
       "defaultdict(list,\n",
       "            {'-': [['-', 'Z', '', None]],\n",
       "             'meile': [['mina', 'P', 'pl all', ['ps1']]],\n",
       "             'teile': [['sina', 'P', 'pl all', ['ps2']]]})"
      ]
     },
     "execution_count": 7,
     "metadata": {},
     "output_type": "execute_result"
    }
   ],
   "source": [
    "text = 'teile-meile'\n",
    "pronoun_tagger_analysis(text)"
   ]
  },
  {
   "cell_type": "markdown",
   "metadata": {},
   "source": [
    "Üksikult on \"paljudele-paljudele\" üks token"
   ]
  },
  {
   "cell_type": "code",
   "execution_count": 9,
   "metadata": {},
   "outputs": [
    {
     "data": {
      "text/plain": [
       "defaultdict(list,\n",
       "            {'-': [['-', 'Z', '', None]],\n",
       "             'paljudele': [['palju', 'P', 'pl all', ['indef']]]})"
      ]
     },
     "execution_count": 9,
     "metadata": {},
     "output_type": "execute_result"
    }
   ],
   "source": [
    "text = 'paljudele-paljudele'\n",
    "pronoun_tagger_analysis(text)"
   ]
  },
  {
   "cell_type": "code",
   "execution_count": null,
   "metadata": {},
   "outputs": [],
   "source": []
  }
 ],
 "metadata": {
  "kernelspec": {
   "display_name": "Python 3",
   "language": "python",
   "name": "python3"
  },
  "language_info": {
   "codemirror_mode": {
    "name": "ipython",
    "version": 3
   },
   "file_extension": ".py",
   "mimetype": "text/x-python",
   "name": "python",
   "nbconvert_exporter": "python",
   "pygments_lexer": "ipython3",
   "version": "3.5.6"
  }
 },
 "nbformat": 4,
 "nbformat_minor": 2
}
