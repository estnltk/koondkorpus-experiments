{
 "cells": [
  {
   "cell_type": "code",
   "execution_count": 1,
   "metadata": {},
   "outputs": [
    {
     "name": "stderr",
     "output_type": "stream",
     "text": [
      "/home/liisi/anaconda3/envs/est1.6/lib/python3.5/site-packages/psycopg2/__init__.py:144: UserWarning: The psycopg2 wheel package will be renamed from release 2.8; in order to keep installing from binary please use \"pip install psycopg2-binary\" instead. For details see: <http://initd.org/psycopg/docs/install.html#binary-install-from-pypi>.\n",
      "  \"\"\")\n"
     ]
    },
    {
     "name": "stdout",
     "output_type": "stream",
     "text": [
      "INFO:db.py:1222: connecting to host: 'postgres.keeleressursid.ee', port: '5432', dbname: 'estonian-text-corpora', user: 'liisitor'\n",
      "INFO:db.py:1234: role: 'estonian_text_corpora_create'\n"
     ]
    }
   ],
   "source": [
    "from estnltk.storage import PostgresStorage\n",
    "\n",
    "storage = PostgresStorage(pgpass_file='~/.pgpass',\n",
    "                          dbname='estonian-text-corpora',\n",
    "                          schema='estonian_text_corpora',\n",
    "                          role='estonian_text_corpora_create')\n",
    "\n",
    "collection = storage.get_collection('koondkorpus_words_v16_1')"
   ]
  },
  {
   "cell_type": "code",
   "execution_count": 2,
   "metadata": {},
   "outputs": [],
   "source": [
    "iter_collection = collection.select(layers=['target'], collection_meta=['word', 'normalized_form'])"
   ]
  },
  {
   "cell_type": "code",
   "execution_count": 3,
   "metadata": {},
   "outputs": [],
   "source": [
    "tokens = {}    \n",
    "with open('koond_tok_norm.txt', 'a') as n:\n",
    "    with open('koond_tokens', 'a') as m:\n",
    "        for key, text, meta in iter_collection:\n",
    "            if meta['word'] in tokens:\n",
    "                tokens[meta['word']] += 1\n",
    "            else:\n",
    "                tokens[meta['word']] = 1\n",
    "                n.write('%s %s\\n' % (meta['word'], str(meta['normalized_form'])))\n",
    "                m.write('%s\\n' % meta['word'])"
   ]
  },
  {
   "cell_type": "code",
   "execution_count": 4,
   "metadata": {},
   "outputs": [],
   "source": [
    "storage.close()"
   ]
  },
  {
   "cell_type": "code",
   "execution_count": 10,
   "metadata": {},
   "outputs": [],
   "source": [
    "# for i in sorted(tokens, key=tokens.get):\n",
    "#     if tokens[i] > 1:\n",
    "#         print(\"%d×'%s'\" % (tokens[i], i))"
   ]
  },
  {
   "cell_type": "code",
   "execution_count": 5,
   "metadata": {},
   "outputs": [
    {
     "data": {
      "text/plain": [
       "5350453"
      ]
     },
     "execution_count": 5,
     "metadata": {},
     "output_type": "execute_result"
    }
   ],
   "source": [
    "len(tokens)"
   ]
  },
  {
   "cell_type": "code",
   "execution_count": 8,
   "metadata": {},
   "outputs": [],
   "source": [
    "words = []\n",
    "with open('koond_tokens', 'r') as f:\n",
    "    f = f.readlines()\n",
    "    for token in f:\n",
    "        words.append(token.strip('\\n'))\n",
    "        "
   ]
  },
  {
   "cell_type": "code",
   "execution_count": 12,
   "metadata": {},
   "outputs": [
    {
     "data": {
      "text/plain": [
       "5350493"
      ]
     },
     "execution_count": 12,
     "metadata": {},
     "output_type": "execute_result"
    }
   ],
   "source": [
    "len(words)"
   ]
  },
  {
   "cell_type": "code",
   "execution_count": 13,
   "metadata": {},
   "outputs": [],
   "source": [
    "from collections import Counter\n",
    "counter = Counter(words)"
   ]
  },
  {
   "cell_type": "code",
   "execution_count": 17,
   "metadata": {
    "scrolled": true
   },
   "outputs": [
    {
     "name": "stdout",
     "output_type": "stream",
     "text": [
      "0 , 5 2\n",
      "10 2\n",
      "17 2\n",
      "2 , 72 2\n",
      "70 2\n",
      "51 , 7 2\n",
      "55 2\n",
      "-l 7\n",
      "24 2\n",
      "20 3\n",
      "7 , 6 2\n",
      "-ga 8\n",
      "29 2\n",
      "21 2\n",
      "-le 12\n",
      "45 2\n",
      "37 2\n",
      "15 3\n",
      "49 , 4 2\n",
      "26 , 9 2\n",
      "4 3\n",
      "52 2\n",
      "-ni 9\n",
      "35 2\n",
      "12 2\n",
      "33 3\n",
      "14 2\n",
      "34 2\n",
      "3 , 6 2\n",
      "7 , 8 2\n",
      "7 2\n",
      "65 2\n",
      "56 2\n",
      "99 2\n",
      "73 2\n",
      "70 , 4 2\n",
      "49 2\n",
      "13 2\n",
      "25 2\n",
      "59 2\n"
     ]
    }
   ],
   "source": [
    "for k, v in counter.items():\n",
    "    if v > 1:\n",
    "        print(k, v)"
   ]
  },
  {
   "cell_type": "code",
   "execution_count": 18,
   "metadata": {},
   "outputs": [],
   "source": [
    "with open('sorted_koond.txt', 'a') as s:\n",
    "    for word in sorted(words):\n",
    "        s.write(word + '\\n')"
   ]
  },
  {
   "cell_type": "code",
   "execution_count": null,
   "metadata": {},
   "outputs": [],
   "source": []
  }
 ],
 "metadata": {
  "kernelspec": {
   "display_name": "Python 3",
   "language": "python",
   "name": "python3"
  },
  "language_info": {
   "codemirror_mode": {
    "name": "ipython",
    "version": 3
   },
   "file_extension": ".py",
   "mimetype": "text/x-python",
   "name": "python",
   "nbconvert_exporter": "python",
   "pygments_lexer": "ipython3",
   "version": "3.5.6"
  }
 },
 "nbformat": 4,
 "nbformat_minor": 2
}
