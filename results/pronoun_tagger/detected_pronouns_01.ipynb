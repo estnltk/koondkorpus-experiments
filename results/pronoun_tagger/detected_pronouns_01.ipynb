{
 "cells": [
  {
   "cell_type": "markdown",
   "metadata": {},
   "source": [
    "## detected_pronouns_01.csv\n",
    "\n",
    "```\n",
    "$ sha1sum corpora/analysis\\ results/analyzed.json\n",
    "69715fe7026f52e40008662c832ce241f1621976  corpora/analysis results/analyzed.json\n",
    "$ python koondkorpus-experiments/extract_pronouns.py corpora/analysis\\ results/analyzed.json koondkorpus-experiments/results/pronoun_tagger/detected_pronouns_01.csv \n",
    "\n",
    "```"
   ]
  }
 ],
 "metadata": {
  "anaconda-cloud": {},
  "kernelspec": {
   "display_name": "Python [conda env:py35]",
   "language": "python",
   "name": "conda-env-py35-py"
  },
  "language_info": {
   "codemirror_mode": {
    "name": "ipython",
    "version": 3
   },
   "file_extension": ".py",
   "mimetype": "text/x-python",
   "name": "python",
   "nbconvert_exporter": "python",
   "pygments_lexer": "ipython3",
   "version": "3.5.2"
  }
 },
 "nbformat": 4,
 "nbformat_minor": 1
}
