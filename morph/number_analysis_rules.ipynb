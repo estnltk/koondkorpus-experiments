{
 "cells": [
  {
   "cell_type": "markdown",
   "metadata": {},
   "source": [
    "Use `number_analysis_rules_verified.csv` to create `number_analysis_rules.csv`."
   ]
  },
  {
   "cell_type": "code",
   "execution_count": 1,
   "metadata": {
    "collapsed": false
   },
   "outputs": [
    {
     "data": {
      "text/plain": [
       "'read 9744 lines from results/number_analysis_rules_verified.csv'"
      ]
     },
     "execution_count": 1,
     "metadata": {},
     "output_type": "execute_result"
    }
   ],
   "source": [
    "from pandas import read_csv\n",
    "\n",
    "in_file = 'results/number_analysis_rules_verified.csv'\n",
    "out_file = 'results/number_analysis_rules.csv'\n",
    "rules = read_csv(in_file, index_col=False, na_filter=False)\n",
    "\n",
    "'read ' + str(len(rules)) + ' lines from ' + in_file"
   ]
  },
  {
   "cell_type": "code",
   "execution_count": 2,
   "metadata": {
    "collapsed": false
   },
   "outputs": [
    {
     "data": {
      "text/html": [
       "<div>\n",
       "<table border=\"1\" class=\"dataframe\">\n",
       "  <thead>\n",
       "    <tr style=\"text-align: right;\">\n",
       "      <th></th>\n",
       "      <th>number</th>\n",
       "      <th>suffix</th>\n",
       "      <th>pos</th>\n",
       "      <th>form</th>\n",
       "      <th>ending</th>\n",
       "      <th>example</th>\n",
       "      <th>support</th>\n",
       "      <th>decision</th>\n",
       "    </tr>\n",
       "  </thead>\n",
       "  <tbody>\n",
       "    <tr>\n",
       "      <th>0</th>\n",
       "      <td>([1-9][0-9]*)?1[1-9]$</td>\n",
       "      <td></td>\n",
       "      <td>N</td>\n",
       "      <td>?</td>\n",
       "      <td>0</td>\n",
       "      <td>9918</td>\n",
       "      <td>2016</td>\n",
       "      <td>ok</td>\n",
       "    </tr>\n",
       "    <tr>\n",
       "      <th>1</th>\n",
       "      <td>([1-9][0-9]*)?1[1-9]$</td>\n",
       "      <td>lt</td>\n",
       "      <td>N</td>\n",
       "      <td>sg abl</td>\n",
       "      <td>lt</td>\n",
       "      <td>8016-lt</td>\n",
       "      <td>41</td>\n",
       "      <td>ok</td>\n",
       "    </tr>\n",
       "    <tr>\n",
       "      <th>2</th>\n",
       "      <td>([1-9][0-9]*)?1[1-9]$</td>\n",
       "      <td>l</td>\n",
       "      <td>N</td>\n",
       "      <td>sg ad</td>\n",
       "      <td>l</td>\n",
       "      <td>911-l</td>\n",
       "      <td>35</td>\n",
       "      <td>ok</td>\n",
       "    </tr>\n",
       "    <tr>\n",
       "      <th>3</th>\n",
       "      <td>([1-9][0-9]*)?1[1-9]$</td>\n",
       "      <td>le</td>\n",
       "      <td>N</td>\n",
       "      <td>sg all</td>\n",
       "      <td>le</td>\n",
       "      <td>9419-le</td>\n",
       "      <td>67</td>\n",
       "      <td>ok</td>\n",
       "    </tr>\n",
       "    <tr>\n",
       "      <th>4</th>\n",
       "      <td>([1-9][0-9]*)?1[1-9]$</td>\n",
       "      <td>st</td>\n",
       "      <td>N</td>\n",
       "      <td>sg el</td>\n",
       "      <td>st</td>\n",
       "      <td>917-st</td>\n",
       "      <td>82</td>\n",
       "      <td>ok</td>\n",
       "    </tr>\n",
       "    <tr>\n",
       "      <th>5</th>\n",
       "      <td>([1-9][0-9]*)?1[1-9]$</td>\n",
       "      <td>na</td>\n",
       "      <td>N</td>\n",
       "      <td>sg es</td>\n",
       "      <td>na</td>\n",
       "      <td>313-na</td>\n",
       "      <td>9</td>\n",
       "      <td>ok</td>\n",
       "    </tr>\n",
       "    <tr>\n",
       "      <th>6</th>\n",
       "      <td>([1-9][0-9]*)?1[1-9]$</td>\n",
       "      <td>ne</td>\n",
       "      <td>N</td>\n",
       "      <td>sg g</td>\n",
       "      <td>0</td>\n",
       "      <td>214-ne</td>\n",
       "      <td>22</td>\n",
       "      <td>ok</td>\n",
       "    </tr>\n",
       "    <tr>\n",
       "      <th>7</th>\n",
       "      <td>([1-9][0-9]*)?1[1-9]$</td>\n",
       "      <td>sse</td>\n",
       "      <td>N</td>\n",
       "      <td>sg ill</td>\n",
       "      <td>sse</td>\n",
       "      <td>318sse</td>\n",
       "      <td>16</td>\n",
       "      <td>ok</td>\n",
       "    </tr>\n",
       "    <tr>\n",
       "      <th>8</th>\n",
       "      <td>([1-9][0-9]*)?1[1-9]$</td>\n",
       "      <td>s</td>\n",
       "      <td>N</td>\n",
       "      <td>sg in</td>\n",
       "      <td>s</td>\n",
       "      <td>911s</td>\n",
       "      <td>32</td>\n",
       "      <td>ok</td>\n",
       "    </tr>\n",
       "    <tr>\n",
       "      <th>9</th>\n",
       "      <td>([1-9][0-9]*)?1[1-9]$</td>\n",
       "      <td>ga</td>\n",
       "      <td>N</td>\n",
       "      <td>sg kom</td>\n",
       "      <td>ga</td>\n",
       "      <td>914-ga</td>\n",
       "      <td>53</td>\n",
       "      <td>ok</td>\n",
       "    </tr>\n",
       "  </tbody>\n",
       "</table>\n",
       "</div>"
      ],
      "text/plain": [
       "                  number suffix pos    form ending  example support decision\n",
       "0  ([1-9][0-9]*)?1[1-9]$          N       ?      0     9918    2016       ok\n",
       "1  ([1-9][0-9]*)?1[1-9]$     lt   N  sg abl     lt  8016-lt      41       ok\n",
       "2  ([1-9][0-9]*)?1[1-9]$      l   N   sg ad      l    911-l      35       ok\n",
       "3  ([1-9][0-9]*)?1[1-9]$     le   N  sg all     le  9419-le      67       ok\n",
       "4  ([1-9][0-9]*)?1[1-9]$     st   N   sg el     st   917-st      82       ok\n",
       "5  ([1-9][0-9]*)?1[1-9]$     na   N   sg es     na   313-na       9       ok\n",
       "6  ([1-9][0-9]*)?1[1-9]$     ne   N    sg g      0   214-ne      22       ok\n",
       "7  ([1-9][0-9]*)?1[1-9]$    sse   N  sg ill    sse   318sse      16       ok\n",
       "8  ([1-9][0-9]*)?1[1-9]$      s   N   sg in      s     911s      32       ok\n",
       "9  ([1-9][0-9]*)?1[1-9]$     ga   N  sg kom     ga   914-ga      53       ok"
      ]
     },
     "execution_count": 2,
     "metadata": {},
     "output_type": "execute_result"
    }
   ],
   "source": [
    "rules[:10]"
   ]
  },
  {
   "cell_type": "code",
   "execution_count": 3,
   "metadata": {
    "collapsed": false
   },
   "outputs": [
    {
     "data": {
      "text/plain": [
       "'wrote 6964 lines to results/number_analysis_rules.csv'"
      ]
     },
     "execution_count": 3,
     "metadata": {},
     "output_type": "execute_result"
    }
   ],
   "source": [
    "rules = rules[rules['decision']!='not_ok'][['number', 'suffix', 'pos', 'form', 'ending']]\n",
    "rules.to_csv(out_file, index=False)\n",
    "'wrote ' + str(len(rules)) + ' lines to ' + out_file"
   ]
  },
  {
   "cell_type": "code",
   "execution_count": 4,
   "metadata": {
    "collapsed": false
   },
   "outputs": [
    {
     "data": {
      "text/html": [
       "<div>\n",
       "<table border=\"1\" class=\"dataframe\">\n",
       "  <thead>\n",
       "    <tr style=\"text-align: right;\">\n",
       "      <th></th>\n",
       "      <th>number</th>\n",
       "      <th>suffix</th>\n",
       "      <th>pos</th>\n",
       "      <th>form</th>\n",
       "      <th>ending</th>\n",
       "    </tr>\n",
       "  </thead>\n",
       "  <tbody>\n",
       "    <tr>\n",
       "      <th>0</th>\n",
       "      <td>([1-9][0-9]*)?1[1-9]$</td>\n",
       "      <td></td>\n",
       "      <td>N</td>\n",
       "      <td>?</td>\n",
       "      <td>0</td>\n",
       "    </tr>\n",
       "    <tr>\n",
       "      <th>1</th>\n",
       "      <td>([1-9][0-9]*)?1[1-9]$</td>\n",
       "      <td>lt</td>\n",
       "      <td>N</td>\n",
       "      <td>sg abl</td>\n",
       "      <td>lt</td>\n",
       "    </tr>\n",
       "    <tr>\n",
       "      <th>2</th>\n",
       "      <td>([1-9][0-9]*)?1[1-9]$</td>\n",
       "      <td>l</td>\n",
       "      <td>N</td>\n",
       "      <td>sg ad</td>\n",
       "      <td>l</td>\n",
       "    </tr>\n",
       "    <tr>\n",
       "      <th>3</th>\n",
       "      <td>([1-9][0-9]*)?1[1-9]$</td>\n",
       "      <td>le</td>\n",
       "      <td>N</td>\n",
       "      <td>sg all</td>\n",
       "      <td>le</td>\n",
       "    </tr>\n",
       "    <tr>\n",
       "      <th>4</th>\n",
       "      <td>([1-9][0-9]*)?1[1-9]$</td>\n",
       "      <td>st</td>\n",
       "      <td>N</td>\n",
       "      <td>sg el</td>\n",
       "      <td>st</td>\n",
       "    </tr>\n",
       "    <tr>\n",
       "      <th>5</th>\n",
       "      <td>([1-9][0-9]*)?1[1-9]$</td>\n",
       "      <td>na</td>\n",
       "      <td>N</td>\n",
       "      <td>sg es</td>\n",
       "      <td>na</td>\n",
       "    </tr>\n",
       "    <tr>\n",
       "      <th>6</th>\n",
       "      <td>([1-9][0-9]*)?1[1-9]$</td>\n",
       "      <td>ne</td>\n",
       "      <td>N</td>\n",
       "      <td>sg g</td>\n",
       "      <td>0</td>\n",
       "    </tr>\n",
       "    <tr>\n",
       "      <th>7</th>\n",
       "      <td>([1-9][0-9]*)?1[1-9]$</td>\n",
       "      <td>sse</td>\n",
       "      <td>N</td>\n",
       "      <td>sg ill</td>\n",
       "      <td>sse</td>\n",
       "    </tr>\n",
       "    <tr>\n",
       "      <th>8</th>\n",
       "      <td>([1-9][0-9]*)?1[1-9]$</td>\n",
       "      <td>s</td>\n",
       "      <td>N</td>\n",
       "      <td>sg in</td>\n",
       "      <td>s</td>\n",
       "    </tr>\n",
       "    <tr>\n",
       "      <th>9</th>\n",
       "      <td>([1-9][0-9]*)?1[1-9]$</td>\n",
       "      <td>ga</td>\n",
       "      <td>N</td>\n",
       "      <td>sg kom</td>\n",
       "      <td>ga</td>\n",
       "    </tr>\n",
       "  </tbody>\n",
       "</table>\n",
       "</div>"
      ],
      "text/plain": [
       "                  number suffix pos    form ending\n",
       "0  ([1-9][0-9]*)?1[1-9]$          N       ?      0\n",
       "1  ([1-9][0-9]*)?1[1-9]$     lt   N  sg abl     lt\n",
       "2  ([1-9][0-9]*)?1[1-9]$      l   N   sg ad      l\n",
       "3  ([1-9][0-9]*)?1[1-9]$     le   N  sg all     le\n",
       "4  ([1-9][0-9]*)?1[1-9]$     st   N   sg el     st\n",
       "5  ([1-9][0-9]*)?1[1-9]$     na   N   sg es     na\n",
       "6  ([1-9][0-9]*)?1[1-9]$     ne   N    sg g      0\n",
       "7  ([1-9][0-9]*)?1[1-9]$    sse   N  sg ill    sse\n",
       "8  ([1-9][0-9]*)?1[1-9]$      s   N   sg in      s\n",
       "9  ([1-9][0-9]*)?1[1-9]$     ga   N  sg kom     ga"
      ]
     },
     "execution_count": 4,
     "metadata": {},
     "output_type": "execute_result"
    }
   ],
   "source": [
    "rules[:10]"
   ]
  }
 ],
 "metadata": {
  "kernelspec": {
   "display_name": "Python [py35]",
   "language": "python",
   "name": "Python [py35]"
  },
  "language_info": {
   "codemirror_mode": {
    "name": "ipython",
    "version": 3
   },
   "file_extension": ".py",
   "mimetype": "text/x-python",
   "name": "python",
   "nbconvert_exporter": "python",
   "pygments_lexer": "ipython3",
   "version": "3.5.3"
  }
 },
 "nbformat": 4,
 "nbformat_minor": 2
}
