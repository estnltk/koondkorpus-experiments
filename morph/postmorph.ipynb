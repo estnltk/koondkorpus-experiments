{
 "cells": [
  {
   "cell_type": "markdown",
   "metadata": {},
   "source": [
    "# Problematic tokens\n",
    "Find all tokens that \n",
    " - contain not only letteres and\n",
    " - after [normalizing](https://github.com/estnltk/estnltk/blob/devel_1.6/tutorials/MorphAnalyzedToken.ipynb) do not have analysis.\n",
    "\n",
    "Save the results in file."
   ]
  },
  {
   "cell_type": "code",
   "execution_count": 18,
   "metadata": {
    "collapsed": false
   },
   "outputs": [
    {
     "name": "stdout",
     "output_type": "stream",
     "text": [
      "token_count: 5000215\n",
      "not_alpha_count: 732035\n",
      "177261 problematic tokens written to the file results/problematic_tokens.txt\n"
     ]
    }
   ],
   "source": [
    "from IPython.display import clear_output, display\n",
    "\n",
    "from estnltk.rewriting.premorph.morph_analyzed_token import MorphAnalyzedToken\n",
    "from estnltk.vabamorf.morf import analyze\n",
    "\n",
    "token_count = 0\n",
    "not_alpha_count = 0\n",
    "\n",
    "result = []\n",
    "with open('../temp/wordlist', 'r', encoding='utf_8') as in_f:\n",
    "    for i, line in enumerate(in_f):\n",
    "        token_count += 1\n",
    "        token = line.strip()\n",
    "        if not token.isalpha():\n",
    "            not_alpha_count += 1\n",
    "            token = MorphAnalyzedToken(token)\n",
    "            if len(token.normal._analysis) == 0:\n",
    "                result.append(token.normal.text)\n",
    "\n",
    "                if len(result) % 500 == 1:\n",
    "                    clear_output()\n",
    "                    display('{} {}'.format(i, token))\n",
    "                \n",
    "clear_output()\n",
    "out_file = 'results/problematic_tokens.txt'\n",
    "with open(out_file, 'w', encoding='utf_8') as out_f:\n",
    "    for token in result:\n",
    "        print(token, file=out_f)\n",
    "\n",
    "print('token_count:', token_count)\n",
    "print('not_alpha_count:', not_alpha_count)\n",
    "print(len(result), 'problematic tokens written to the file', out_file)"
   ]
  }
 ],
 "metadata": {
  "kernelspec": {
   "display_name": "Python [py35]",
   "language": "python",
   "name": "Python [py35]"
  },
  "language_info": {
   "codemirror_mode": {
    "name": "ipython",
    "version": 3
   },
   "file_extension": ".py",
   "mimetype": "text/x-python",
   "name": "python",
   "nbconvert_exporter": "python",
   "pygments_lexer": "ipython3",
   "version": "3.5.3"
  }
 },
 "nbformat": 4,
 "nbformat_minor": 2
}
