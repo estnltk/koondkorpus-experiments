{
 "cells": [
  {
   "cell_type": "markdown",
   "metadata": {},
   "source": [
    "# Syntax preprocessing diff\n",
    "\n",
    "\n",
    "```bash\n",
    "$ git clone estnltk alt-estnltk\n",
    "$ cp estnltk/estnltk/vabamorf/vabamorf.py alt-estnltk/estnltk/vabamorf/\n",
    "$ cp estnltk/estnltk/vabamorf/_vabamorf.cpython-35m-x86_64-linux-gnu.so alt-estnltk/estnltk/vabamorf/\n",
    "```\n"
   ]
  }
 ],
 "metadata": {
  "anaconda-cloud": {},
  "kernelspec": {
   "display_name": "Python [conda env:py35]",
   "language": "python",
   "name": "conda-env-py35-py"
  },
  "language_info": {
   "codemirror_mode": {
    "name": "ipython",
    "version": 3
   },
   "file_extension": ".py",
   "mimetype": "text/x-python",
   "name": "python",
   "nbconvert_exporter": "python",
   "pygments_lexer": "ipython3",
   "version": "3.5.2"
  }
 },
 "nbformat": 4,
 "nbformat_minor": 1
}
