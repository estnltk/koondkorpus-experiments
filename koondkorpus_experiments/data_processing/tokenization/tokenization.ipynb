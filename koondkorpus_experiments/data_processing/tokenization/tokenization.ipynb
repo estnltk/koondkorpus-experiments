{
 "cells": [
  {
   "cell_type": "code",
   "execution_count": 1,
   "metadata": {},
   "outputs": [
    {
     "name": "stdout",
     "output_type": "stream",
     "text": [
      "INFO:db.py:1166: connecting to host: 'postgres.keeleressursid.ee', port: '5432', dbname: 'estonian-text-corpora', user: 'pault'\n",
      "INFO:db.py:1178: role: 'estonian_text_corpora_create'\n"
     ]
    }
   ],
   "source": [
    "from estnltk.storage import PostgresStorage\n",
    "\n",
    "storage = PostgresStorage(pgpass_file='~/.pgpass',\n",
    "                          dbname='estonian-text-corpora',\n",
    "                          schema='estonian_text_corpora',\n",
    "                          role='estonian_text_corpora_create')\n",
    "\n",
    "collection = storage.get_collection('test_korpus_2')"
   ]
  },
  {
   "cell_type": "code",
   "execution_count": 2,
   "metadata": {
    "scrolled": true
   },
   "outputs": [
    {
     "data": {
      "application/vnd.jupyter.widget-view+json": {
       "model_id": "6d3065239fe14f0fbb5c0d3dd0e94f68",
       "version_major": 2,
       "version_minor": 0
      },
      "text/plain": [
       "HBox(children=(IntProgress(value=0), HTML(value='')))"
      ]
     },
     "metadata": {},
     "output_type": "display_data"
    },
    {
     "name": "stdout",
     "output_type": "stream",
     "text": [
      "\n"
     ]
    }
   ],
   "source": [
    "counter = collection.count_values(layer='words', attr='text', progressbar='notebook')"
   ]
  },
  {
   "cell_type": "code",
   "execution_count": 3,
   "metadata": {},
   "outputs": [],
   "source": [
    "import json\n",
    "\n",
    "with open('results/koond_words_frequency.json', 'w') as out_f:\n",
    "    json.dump(counter, fp=out_f, ensure_ascii=False)"
   ]
  },
  {
   "cell_type": "code",
   "execution_count": 4,
   "metadata": {},
   "outputs": [],
   "source": [
    "with open('results/koond_words_frequency.json') as in_f:\n",
    "    counter = json.load(in_f)"
   ]
  },
  {
   "cell_type": "code",
   "execution_count": 5,
   "metadata": {},
   "outputs": [],
   "source": [
    "with open('results/koond_words_list.txt', 'w') as out_f:\n",
    "    for word in sorted(counter):\n",
    "        print(word, file=out_f)"
   ]
  },
  {
   "cell_type": "code",
   "execution_count": 6,
   "metadata": {},
   "outputs": [
    {
     "data": {
      "text/plain": [
       "148"
      ]
     },
     "execution_count": 6,
     "metadata": {},
     "output_type": "execute_result"
    }
   ],
   "source": [
    "texts = []\n",
    "\n",
    "with open('results/koond_words_list.txt') as in_f:\n",
    "    text = []\n",
    "    for word in in_f:\n",
    "        text.append(word.rstrip())\n",
    "        if len(text) == 100:\n",
    "            texts.append(' '.join(text))\n",
    "            text = []\n",
    "    if text:\n",
    "        texts.append(' '.join(text))\n",
    "\n",
    "len(texts)"
   ]
  },
  {
   "cell_type": "code",
   "execution_count": 7,
   "metadata": {},
   "outputs": [
    {
     "data": {
      "text/plain": [
       "'pisarsilmil pisematel pisiasja pisiasjad pisimuredele pisipere pisiriigi pistmisest pistmist pisut pitsid plaan plaani plaanib plaanide plaanidest plaaniga plaanis plaanitakse plaatide plahvatuse planeerida planeerimisameti planeeringu planeeritud platsi platsil platsile platsilt pluss poeg poes poest poisid poiss poiss-sõbra poissi poistel poja polaarusele pole polegi poleks poliitik poliitikaosakonna poliitikas poliitikasse poliitikast poliitikud poliitikutel poliitiline poliitilise poliitilised poliitiliseks poliitilisi poliitilist poliitiliste poliitilistel poliitmängude polikliiniku poliseijaoskonnale politoloogiat politsei politseiameti politseiametil politseiametile politseiautode politseiautole politseid politseiga politseijõud politseile politseimaja politseinike politseinikke politseinikku politseinikud politseiseadus politseisse politseistruktuuridele politseišeff polnud polnudki pommirühm pommitama pommitatud pommiähvardajatega pommiähvardus ponnistas poode poodi poodut pool poolaasta poolaja poolakad poolakas poole pooled pooleks'"
      ]
     },
     "execution_count": 7,
     "metadata": {},
     "output_type": "execute_result"
    }
   ],
   "source": [
    "texts[100]"
   ]
  },
  {
   "cell_type": "code",
   "execution_count": 8,
   "metadata": {},
   "outputs": [
    {
     "data": {
      "text/html": [
       "<table border=\"1\" class=\"dataframe\">\n",
       "  <thead>\n",
       "    <tr style=\"text-align: right;\">\n",
       "      <th>text</th>\n",
       "    </tr>\n",
       "  </thead>\n",
       "  <tbody>\n",
       "    <tr>\n",
       "      <td><div align = \"left\">Aias sadas saia.</div></td>\n",
       "    </tr>\n",
       "  </tbody>\n",
       "</table>\n",
       "<table border=\"1\" class=\"dataframe\">\n",
       "  <thead>\n",
       "    <tr style=\"text-align: right;\">\n",
       "      <th>layer name</th>\n",
       "      <th>attributes</th>\n",
       "      <th>parent</th>\n",
       "      <th>enveloping</th>\n",
       "      <th>ambiguous</th>\n",
       "      <th>span count</th>\n",
       "    </tr>\n",
       "  </thead>\n",
       "  <tbody>\n",
       "    <tr>\n",
       "      <td>v16_1_words</td>\n",
       "      <td>normalized_form</td>\n",
       "      <td>None</td>\n",
       "      <td>None</td>\n",
       "      <td>False</td>\n",
       "      <td>4</td>\n",
       "    </tr>\n",
       "  </tbody>\n",
       "</table>"
      ],
      "text/plain": [
       "Text(text='Aias sadas saia.')"
      ]
     },
     "execution_count": 8,
     "metadata": {},
     "output_type": "execute_result"
    }
   ],
   "source": [
    "from estnltk import Text\n",
    "from koondkorpus_experiments.data_processing.tokenization.plain_word_tagger import PlainWordTagger\n",
    "\n",
    "\n",
    "tagger = PlainWordTagger(output_layer='v16_1_words')\n",
    "text = Text('Aias sadas saia.')\n",
    "tagger(text)\n",
    "text"
   ]
  },
  {
   "cell_type": "code",
   "execution_count": 9,
   "metadata": {},
   "outputs": [
    {
     "name": "stdout",
     "output_type": "stream",
     "text": [
      "INFO:db.py:779: collection: 'test_korpus_2'\n",
      "INFO:db.py:784: overwriting output layer: 'v16_1_words'\n",
      "INFO:db.py:960: layer deleted: 'v16_1_words'\n",
      "INFO:db.py:790: preparing to create a new layer: 'v16_1_words'\n"
     ]
    },
    {
     "data": {
      "application/vnd.jupyter.widget-view+json": {
       "model_id": "aca720a95db34e3396fcd1366d074bb1",
       "version_major": 2,
       "version_minor": 0
      },
      "text/plain": [
       "HBox(children=(IntProgress(value=0), HTML(value='')))"
      ]
     },
     "metadata": {},
     "output_type": "display_data"
    },
    {
     "name": "stdout",
     "output_type": "stream",
     "text": [
      "\n",
      "INFO:db.py:850: layer created: 'v16_1_words'\n"
     ]
    }
   ],
   "source": [
    "collection = storage.get_collection('test_korpus_2')\n",
    "\n",
    "collection.create_layer_buffered(tagger=tagger, progressbar='notebook', overwrite=True)"
   ]
  },
  {
   "cell_type": "code",
   "execution_count": 10,
   "metadata": {},
   "outputs": [],
   "source": [
    "storage.close()"
   ]
  }
 ],
 "metadata": {
  "kernelspec": {
   "display_name": "Python 3",
   "language": "python",
   "name": "python3"
  },
  "language_info": {
   "codemirror_mode": {
    "name": "ipython",
    "version": 3
   },
   "file_extension": ".py",
   "mimetype": "text/x-python",
   "name": "python",
   "nbconvert_exporter": "python",
   "pygments_lexer": "ipython3",
   "version": "3.5.6"
  }
 },
 "nbformat": 4,
 "nbformat_minor": 2
}
